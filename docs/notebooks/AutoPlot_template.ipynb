{
 "cells": [
  {
   "cell_type": "markdown",
   "metadata": {},
   "source": [
    "# auto_plot"
   ]
  },
  {
   "cell_type": "code",
   "execution_count": null,
   "metadata": {
    "tags": [
     "hide_input",
     "hide_output"
    ]
   },
   "outputs": [],
   "source": [
    "%matplotlib inline\n",
    "\n",
    "from IPython.display import set_matplotlib_formats\n",
    "\n",
    "set_matplotlib_formats('retina')"
   ]
  },
  {
   "cell_type": "markdown",
   "metadata": {},
   "source": [
    "The easiest way to plot stuff with `vplot` is using the `auto_plot` function. Given a path to a directory containign a `vplanet` run, `auto_plot` will parse the output and generate plots of all of the simulated quantities as a function of time for all of the bodies.\n",
    "\n",
    "Let's run `auto_plot` on the **CircumbinaryOrbit** example in the **examples** folder:"
   ]
  },
  {
   "cell_type": "code",
   "execution_count": null,
   "metadata": {},
   "outputs": [],
   "source": [
    "import vplot as vpl"
   ]
  },
  {
   "cell_type": "code",
   "execution_count": null,
   "metadata": {
    "tags": [
     "hide_input",
     "hide_output"
    ]
   },
   "outputs": [],
   "source": [
    "figs = vpl.auto_plot(\"examples/CircumbinaryOrbit\", show=False, figsize=(5, 3), dpi=300);"
   ]
  },
  {
   "cell_type": "code",
   "execution_count": null,
   "metadata": {
    "tags": [
     "hide_input"
    ]
   },
   "outputs": [],
   "source": [
    "import matplotlib.pyplot as plt\n",
    "import numpy as np\n",
    "from IPython.display import HTML\n",
    "import io\n",
    "import base64\n",
    "\n",
    "\n",
    "class FlowLayout(object):\n",
    "    \"\"\"A class / object to display plots in a horizontal / flow layout below a cell.\n",
    "    \n",
    "    Based on https://stackoverflow.com/a/49566213\n",
    "    \"\"\"\n",
    "\n",
    "    def __init__(self):\n",
    "        # string buffer for the HTML: initially some CSS; images to be appended\n",
    "        self.sHtml = \"\"\"\n",
    "        <style>\n",
    "        .floating-box {\n",
    "            display: inline-block;\n",
    "            margin: 3px;\n",
    "            border: 1px solid #aaaaaa;\n",
    "            overflow: visible;\n",
    "            padding: 1em;\n",
    "        }\n",
    "        </style>\n",
    "        \"\"\"\n",
    "\n",
    "    def add_figure(self, fig, width=280):\n",
    "        \"\"\" Saves a PNG representation of a Matplotlib Axes object \"\"\"\n",
    "        Bio = io.BytesIO()  # bytes buffer for the plot\n",
    "        fig.canvas.print_png(Bio, dpi=500)  # make a png of the plot in the buffer\n",
    "\n",
    "        # encode the bytes as string using base 64\n",
    "        sB64Img = base64.b64encode(Bio.getvalue()).decode()\n",
    "        self.sHtml += (\n",
    "            '<div class=\"floating-box\">'\n",
    "            + '<img src=\"data:image/png;base64,{}\\n\" width=\"{}px\">'.format(sB64Img, width)\n",
    "            + \"</div>\"\n",
    "        )\n",
    "\n",
    "    def PassHtmlToCell(self):\n",
    "        \"\"\" Final step - display the accumulated HTML \"\"\"\n",
    "        display(HTML(self.sHtml))\n",
    "\n",
    "\n",
    "oPlot = FlowLayout()\n",
    "for fig in figs:\n",
    "    fig.subplots_adjust(left=0.2, right=0.9, bottom=0.2, top=0.9)\n",
    "    oPlot.add_figure(fig)\n",
    "oPlot.PassHtmlToCell()"
   ]
  }
 ],
 "metadata": {
  "celltoolbar": "Tags",
  "kernelspec": {
   "display_name": "Python 3",
   "language": "python",
   "name": "python3"
  },
  "language_info": {
   "codemirror_mode": {
    "name": "ipython",
    "version": 3
   },
   "file_extension": ".py",
   "mimetype": "text/x-python",
   "name": "python",
   "nbconvert_exporter": "python",
   "pygments_lexer": "ipython3",
   "version": "3.7.2"
  }
 },
 "nbformat": 4,
 "nbformat_minor": 2
}
