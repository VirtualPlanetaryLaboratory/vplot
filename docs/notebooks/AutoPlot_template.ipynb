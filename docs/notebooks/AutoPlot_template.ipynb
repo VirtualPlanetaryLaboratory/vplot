{
 "cells": [
  {
   "cell_type": "markdown",
   "metadata": {},
   "source": [
    "# auto_plot"
   ]
  },
  {
   "cell_type": "code",
   "execution_count": null,
   "metadata": {
    "tags": [
     "hide_input"
    ]
   },
   "outputs": [],
   "source": [
    "%matplotlib inline\n",
    "\n",
    "from IPython.display import set_matplotlib_formats\n",
    "\n",
    "set_matplotlib_formats('retina')"
   ]
  },
  {
   "cell_type": "markdown",
   "metadata": {},
   "source": [
    "The easiest way to plot stuff with `vplot` is using the `auto_plot` function. Given a path to a directory containign a `vplanet` run, `auto_plot` will parse the output and generate plots of all of the simulated quantities as a function of time for all of the bodies."
   ]
  },
  {
   "cell_type": "markdown",
   "metadata": {},
   "source": [
    "Let's run `auto_plot` on the `CircumbinaryOrbit` example, whose input files are the following:"
   ]
  },
  {
   "cell_type": "code",
   "execution_count": null,
   "metadata": {
    "tags": [
     "hide_input"
    ]
   },
   "outputs": [],
   "source": [
    "# Tar up the example folder\n",
    "\n",
    "import glob\n",
    "import tarfile\n",
    "import os\n",
    "\n",
    "with tarfile.open(\"examples/CircumbinaryOrbit.tar.gz\", \"w:gz\") as tar:\n",
    "    for file in glob.glob(\"examples/CircumbinaryOrbit/*.in\"):\n",
    "        tar.add(file, arcname=os.path.basename(file))"
   ]
  },
  {
   "cell_type": "raw",
   "metadata": {
    "raw_mimetype": "text/restructuredtext"
   },
   "source": [
    "* :download:`vpl.in <examples/CircumbinaryOrbit/vpl.in>`\n",
    "* :download:`primary.in <examples/CircumbinaryOrbit/primary.in>`\n",
    "* :download:`secondary.in <examples/CircumbinaryOrbit/secondary.in>`\n",
    "* :download:`cbp.in <examples/CircumbinaryOrbit/cbp.in>`\n",
    "* :download:`earth.in <examples/CircumbinaryOrbit/earth.in>`"
   ]
  },
  {
   "cell_type": "markdown",
   "metadata": {},
   "source": [
    "We begin by importing `vplot`:"
   ]
  },
  {
   "cell_type": "code",
   "execution_count": null,
   "metadata": {},
   "outputs": [],
   "source": [
    "import vplot as vpl"
   ]
  },
  {
   "cell_type": "markdown",
   "metadata": {},
   "source": [
    "We then call `auto_plot`, passing the directory to the `vplanet` run (note that `vplot` expects you to have run `vplanet` already!):"
   ]
  },
  {
   "cell_type": "code",
   "execution_count": null,
   "metadata": {
    "replace_input": "vpl.auto_plot(\"examples/CircumbinaryOrbit\")"
   },
   "outputs": [],
   "source": [
    "from figure_grid import FigureGrid\n",
    "\n",
    "FigureGrid(\n",
    "    vpl.auto_plot(\"examples/CircumbinaryOrbit\", show=False, figsize=(5, 3), dpi=300)\n",
    ").display()"
   ]
  }
 ],
 "metadata": {
  "celltoolbar": "Tags",
  "kernelspec": {
   "display_name": "Python 3",
   "language": "python",
   "name": "python3"
  },
  "language_info": {
   "codemirror_mode": {
    "name": "ipython",
    "version": 3
   },
   "file_extension": ".py",
   "mimetype": "text/x-python",
   "name": "python",
   "nbconvert_exporter": "python",
   "pygments_lexer": "ipython3",
   "version": "3.7.2"
  }
 },
 "nbformat": 4,
 "nbformat_minor": 2
}
