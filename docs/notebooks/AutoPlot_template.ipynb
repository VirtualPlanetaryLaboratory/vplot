{
 "cells": [
  {
   "cell_type": "markdown",
   "source": [
    "# The `auto_plot` function"
   ],
   "metadata": {}
  },
  {
   "cell_type": "code",
   "execution_count": null,
   "source": [
    "%matplotlib inline\n",
    "\n",
    "from IPython.display import set_matplotlib_formats\n",
    "\n",
    "#set_matplotlib_formats('retina')"
   ],
   "outputs": [],
   "metadata": {
    "tags": [
     "hide_input"
    ]
   }
  },
  {
   "cell_type": "markdown",
   "source": [
    "## Overview"
   ],
   "metadata": {}
  },
  {
   "cell_type": "raw",
   "source": [
    "The easiest way to plot stuff with :py:obj:`vplot` is using the :py:class:`vplot.auto_plot` function. Given a path to a directory containing a :py:obj:`vplanet` run, :py:class:`vplot.auto_plot` will parse the output and generate plots of all of the simulated quantities as a function of time for all of the bodies."
   ],
   "metadata": {
    "raw_mimetype": "text/restructuredtext"
   }
  },
  {
   "cell_type": "code",
   "execution_count": null,
   "source": [
    "# Tar up the example folder\n",
    "import glob\n",
    "import tarfile\n",
    "import os\n",
    "\n",
    "with tarfile.open(\"examples/CircumbinaryOrbit.tar.gz\", \"w:gz\") as tar:\n",
    "    for file in glob.glob(\"examples/CircumbinaryOrbit/*.in\"):\n",
    "        tar.add(file, arcname=os.path.basename(file))"
   ],
   "outputs": [],
   "metadata": {
    "tags": [
     "hide_input"
    ]
   }
  },
  {
   "cell_type": "raw",
   "source": [
    "Let's run :py:class:`vplot.auto_plot` on the :download:`CircumbinaryOrbit <examples/CircumbinaryOrbit.tar.gz>` example."
   ],
   "metadata": {
    "raw_mimetype": "text/restructuredtext"
   }
  },
  {
   "cell_type": "code",
   "execution_count": null,
   "source": [
    "import vplot"
   ],
   "outputs": [],
   "metadata": {}
  },
  {
   "cell_type": "raw",
   "source": [
    "When we call :py:class:`vplot.auto_plot`, we pass the directory to the :py:obj:`vplanet` run:"
   ],
   "metadata": {
    "raw_mimetype": "text/restructuredtext"
   }
  },
  {
   "cell_type": "code",
   "execution_count": null,
   "source": [
    "from figure_grid import FigureGrid\n",
    "\n",
    "FigureGrid(\n",
    "    vplot.auto_plot(\"examples/CircumbinaryOrbit\", show=False, figsize=(5, 3), dpi=300)\n",
    ").display()"
   ],
   "outputs": [],
   "metadata": {
    "replace_input": "vpl.auto_plot(\"examples/CircumbinaryOrbit\")"
   }
  },
  {
   "cell_type": "raw",
   "source": [
    ".. note::\n",
    "    You must actually run :py:obj:`vplanet` before calling :py:obj:`vplot`!"
   ],
   "metadata": {
    "raw_mimetype": "text/restructuredtext"
   }
  },
  {
   "cell_type": "markdown",
   "source": [
    "By default, parameters are grouped by *parameter name*. This means that if there are multiple bodies with the same parameter, they will all show up in the same plot, with labels indicating the body they correspond to. We can disable grouping by running"
   ],
   "metadata": {}
  },
  {
   "cell_type": "code",
   "execution_count": null,
   "source": [
    "FigureGrid(\n",
    "    vplot.auto_plot(\"examples/CircumbinaryOrbit\", show=False, figsize=(5, 3), dpi=300, group=\"none\")\n",
    ").display()"
   ],
   "outputs": [],
   "metadata": {
    "replace_input": "vpl.auto_plot(\"examples/CircumbinaryOrbit\", group=\"none\")"
   }
  },
  {
   "cell_type": "markdown",
   "source": [
    "Alternatively, we can group by *physical type*. This means that everything that is an angle will be grouped into one plot, everything that has units of distance will be grouped into a different plot, and so forth. It isn't always useful, particularly if you have *lots* of parameters of the same physical type (as is the case here)."
   ],
   "metadata": {}
  },
  {
   "cell_type": "code",
   "execution_count": null,
   "source": [
    "FigureGrid(\n",
    "    vplot.auto_plot(\"examples/CircumbinaryOrbit\", show=False, figsize=(5, 3), dpi=300, group=\"type\")\n",
    ").display()"
   ],
   "outputs": [],
   "metadata": {
    "replace_input": "vpl.auto_plot(\"examples/CircumbinaryOrbit\", group=\"type\")"
   }
  },
  {
   "cell_type": "markdown",
   "source": [
    "## Useful options"
   ],
   "metadata": {}
  },
  {
   "cell_type": "markdown",
   "source": [
    "We can plot only specific parameters:"
   ],
   "metadata": {}
  },
  {
   "cell_type": "code",
   "execution_count": null,
   "source": [
    "FigureGrid(\n",
    "    vplot.auto_plot(\n",
    "        \"examples/CircumbinaryOrbit\",\n",
    "        show=False,\n",
    "        figsize=(5, 3),\n",
    "        dpi=300,\n",
    "        params=[\"eccentricity\", \"CBPR\"],\n",
    "    )\n",
    ").display()"
   ],
   "outputs": [],
   "metadata": {
    "replace_input": "vpl.auto_plot(\"examples/CircumbinaryOrbit\", params=[\"eccentricity\", \"CBPR\"])"
   }
  },
  {
   "cell_type": "markdown",
   "source": [
    "And we can plot only specific bodies:"
   ],
   "metadata": {}
  },
  {
   "cell_type": "code",
   "execution_count": null,
   "source": [
    "FigureGrid(\n",
    "    vplot.auto_plot(\n",
    "        \"examples/CircumbinaryOrbit\",\n",
    "        show=False,\n",
    "        figsize=(5, 3),\n",
    "        dpi=300,\n",
    "        params=[\"eccentricity\", \"CBPR\"],\n",
    "        bodies=\"earth\",\n",
    "    ),\n",
    ").display()"
   ],
   "outputs": [],
   "metadata": {
    "replace_input": "vpl.auto_plot(\"examples/CircumbinaryOrbit\", params=[\"eccentricity\", \"CBPR\"], bodies=\"earth\")"
   }
  },
  {
   "cell_type": "raw",
   "source": [
    ".. note::\n",
    "   Body and parameter names are case-insensitive, but otherwise \n",
    "   they must match the values in the ``.in`` files exactly.\n",
    "   Note that the parameter names are those specified in the\n",
    "   ``saOutputOrder`` line of the ``.in`` files."
   ],
   "metadata": {
    "raw_mimetype": "text/restructuredtext"
   }
  },
  {
   "cell_type": "markdown",
   "source": [
    "We can also plot things logarithmically:"
   ],
   "metadata": {}
  },
  {
   "cell_type": "code",
   "execution_count": null,
   "source": [
    "FigureGrid(\n",
    "    vplot.auto_plot(\n",
    "        \"examples/CircumbinaryOrbit\",\n",
    "        show=False,\n",
    "        figsize=(5, 3),\n",
    "        dpi=300,\n",
    "        params=[\"eccentricity\", \"CBPR\"],\n",
    "        bodies=\"earth\",\n",
    "        xlog=True,\n",
    "        ylog=False\n",
    "    ),\n",
    ").display()"
   ],
   "outputs": [],
   "metadata": {
    "replace_input": "vpl.auto_plot(\"examples/CircumbinaryOrbit\", params=[\"eccentricity\", \"CBPR\"], bodies=\"earth\", xlog=True, ylog=False)"
   }
  },
  {
   "cell_type": "raw",
   "source": [
    "Finally, note that :py:class:`vplot.auto_plot` also accepts any keyword arguments accepted by :py:class:`vplot.VPLOTFigure` and :py:class:`matplotlib.figure.Figure`, such as ``figsize`` and ``dpi``."
   ],
   "metadata": {
    "raw_mimetype": "text/restructuredtext"
   }
  }
 ],
 "metadata": {
  "celltoolbar": "Edit Metadata",
  "kernelspec": {
   "display_name": "Python 3",
   "language": "python",
   "name": "python3"
  },
  "language_info": {
   "codemirror_mode": {
    "name": "ipython",
    "version": 3
   },
   "file_extension": ".py",
   "mimetype": "text/x-python",
   "name": "python",
   "nbconvert_exporter": "python",
   "pygments_lexer": "ipython3",
   "version": "3.8.3"
  }
 },
 "nbformat": 4,
 "nbformat_minor": 2
}