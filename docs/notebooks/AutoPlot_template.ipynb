{
 "cells": [
  {
   "cell_type": "markdown",
   "metadata": {},
   "source": [
    "# auto_plot"
   ]
  },
  {
   "cell_type": "code",
   "execution_count": null,
   "metadata": {
    "tags": [
     "hide_input"
    ]
   },
   "outputs": [],
   "source": [
    "%matplotlib inline\n",
    "\n",
    "from IPython.display import set_matplotlib_formats\n",
    "\n",
    "set_matplotlib_formats('retina')"
   ]
  },
  {
   "cell_type": "markdown",
   "metadata": {},
   "source": [
    "The easiest way to plot stuff with `vplot` is using the `auto_plot` function. Given a path to a directory containign a `vplanet` run, `auto_plot` will parse the output and generate plots of all of the simulated quantities as a function of time for all of the bodies."
   ]
  },
  {
   "cell_type": "code",
   "execution_count": null,
   "metadata": {
    "tags": [
     "hide_input"
    ]
   },
   "outputs": [],
   "source": [
    "# Tar up the example folder\n",
    "import glob\n",
    "import tarfile\n",
    "import os\n",
    "\n",
    "with tarfile.open(\"examples/CircumbinaryOrbit.tar.gz\", \"w:gz\") as tar:\n",
    "    for file in glob.glob(\"examples/CircumbinaryOrbit/*.in\"):\n",
    "        tar.add(file, arcname=os.path.basename(file))"
   ]
  },
  {
   "cell_type": "raw",
   "metadata": {
    "raw_mimetype": "text/restructuredtext"
   },
   "source": [
    "Let's run autoplot on the :download:`CircumbinaryOrbit <examples/CircumbinaryOrbit.tar.gz>` example."
   ]
  },
  {
   "cell_type": "code",
   "execution_count": null,
   "metadata": {},
   "outputs": [],
   "source": [
    "import vplot as vpl"
   ]
  },
  {
   "cell_type": "markdown",
   "metadata": {},
   "source": [
    "We then call `auto_plot`, passing the directory to the `vplanet` run."
   ]
  },
  {
   "cell_type": "code",
   "execution_count": null,
   "metadata": {
    "replace_input": "vpl.auto_plot(\"examples/CircumbinaryOrbit\")"
   },
   "outputs": [],
   "source": [
    "from figure_grid import FigureGrid\n",
    "\n",
    "FigureGrid(\n",
    "    vpl.auto_plot(\"examples/CircumbinaryOrbit\", show=False, figsize=(5, 3), dpi=300)\n",
    ").display()"
   ]
  },
  {
   "cell_type": "raw",
   "metadata": {
    "raw_mimetype": "text/restructuredtext"
   },
   "source": [
    ".. note::\n",
    "    You must actually run `vplanet` before calling `vplot`."
   ]
  },
  {
   "cell_type": "markdown",
   "metadata": {},
   "source": [
    "By default, parameters are grouped by *parameter name*. This means that if there are multiple bodies with the same parameter, they will all show up in the same plot, with labels indicating the body they correspond to. We can disable grouping by running"
   ]
  },
  {
   "cell_type": "code",
   "execution_count": null,
   "metadata": {
    "replace_input": "vpl.auto_plot(\"examples/CircumbinaryOrbit\", group=\"none\")"
   },
   "outputs": [],
   "source": [
    "from figure_grid import FigureGrid\n",
    "\n",
    "FigureGrid(\n",
    "    vpl.auto_plot(\"examples/CircumbinaryOrbit\", show=False, figsize=(5, 3), dpi=300, group=\"none\")\n",
    ").display()"
   ]
  },
  {
   "cell_type": "markdown",
   "metadata": {},
   "source": [
    "Alternatively, we can group by *physical type*. This means that everything that is an angle will be grouped into one plot, everything that has units of distance will be grouped into a different plot, and so forth:"
   ]
  },
  {
   "cell_type": "code",
   "execution_count": null,
   "metadata": {
    "replace_input": "vpl.auto_plot(\"examples/CircumbinaryOrbit\", group=\"type\")"
   },
   "outputs": [],
   "source": [
    "from figure_grid import FigureGrid\n",
    "\n",
    "FigureGrid(\n",
    "    vpl.auto_plot(\"examples/CircumbinaryOrbit\", show=False, figsize=(5, 3), dpi=300, group=\"type\")\n",
    ").display()"
   ]
  }
 ],
 "metadata": {
  "celltoolbar": "Edit Metadata",
  "kernelspec": {
   "display_name": "Python 3",
   "language": "python",
   "name": "python3"
  },
  "language_info": {
   "codemirror_mode": {
    "name": "ipython",
    "version": 3
   },
   "file_extension": ".py",
   "mimetype": "text/x-python",
   "name": "python",
   "nbconvert_exporter": "python",
   "pygments_lexer": "ipython3",
   "version": "3.7.2"
  }
 },
 "nbformat": 4,
 "nbformat_minor": 2
}
